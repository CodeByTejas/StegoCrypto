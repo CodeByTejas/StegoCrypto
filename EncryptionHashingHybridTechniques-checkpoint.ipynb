{
 "cells": [
  {
   "cell_type": "code",
   "execution_count": 4,
   "id": "fa51a13e-9234-4f9b-9610-bd811a439855",
   "metadata": {},
   "outputs": [],
   "source": [
    "# Steganography System\n",
    "\n",
    "## Step 1: AES and Triple DES Encryption\n",
    "\n",
    "### Here we first encrypt the message using AES and Triple DES encryption.\n",
    "\n",
    "## Step 2: Embedding the Encrypted Message in an Image\n",
    "\n",
    "### Now we hide the encrypted message in the image using steganography.\n",
    "\n",
    "## Step 3: Decryption and Message Extraction\n",
    "\n",
    "###Finally the user can extract and decrypt the hidden message.\n"
   ]
  },
  {
   "cell_type": "markdown",
   "id": "ce10acff-a99b-4198-aab2-d3c666f11c92",
   "metadata": {},
   "source": [
    "!pip install pycryptodome Pillow numpy cryptography\n"
   ]
  },
  {
   "cell_type": "code",
   "execution_count": null,
   "id": "08e42269-6169-444b-96b6-275cb9a6b5e1",
   "metadata": {},
   "outputs": [],
   "source": [
    "#Diffie-Hellman"
   ]
  },
  {
   "cell_type": "code",
   "execution_count": 9,
   "id": "c6838d8a-f8ac-4e1a-b7bd-a5f056aa22a2",
   "metadata": {},
   "outputs": [
    {
     "name": "stdin",
     "output_type": "stream",
     "text": [
      "Enter key size for Diffie-Hellman (e.g., 512, 1024, 2048):  1024\n",
      "Enter the name for User A:  Tejas\n",
      "Enter the name for User B:  Rahul\n"
     ]
    },
    {
     "name": "stdout",
     "output_type": "stream",
     "text": [
      "Shared key generated for Tejas and Rahul: 34dc2a2cc34a2175843d9c8c14efffc7c39a8defd9fd2ed1dda061a72999fd98a1f2355da47501dec48f417a61acfab1a4f409ed2d4c607921e625c22ff44c70b171f6e8a162844a8bb66a8ee3abaa0414bb976649137e0b62bd9607fd907df556ee5d8737cff619e9926bcacf7717f38618303cbb9d42df1af76a5f791ff910\n"
     ]
    }
   ],
   "source": [
    "from cryptography.hazmat.primitives.asymmetric import dh\n",
    "from cryptography.hazmat.primitives import serialization\n",
    "\n",
    "# Ask user for key size input\n",
    "user_key_size = int(input(\"Enter key size for Diffie-Hellman (e.g., 512, 1024, 2048): \"))\n",
    "\n",
    "# Generate Diffie-Hellman parameters based on user input\n",
    "parameters = dh.generate_parameters(generator=2, key_size=user_key_size)\n",
    "\n",
    "# Prompt user for the names of two participants (e.g., \"User A\" and \"User B\")\n",
    "user_A_name = input(\"Enter the name for User A: \")\n",
    "user_B_name = input(\"Enter the name for User B: \")\n",
    "\n",
    "# Generate private key for both users\n",
    "private_key_A = parameters.generate_private_key()\n",
    "private_key_B = parameters.generate_private_key()\n",
    "\n",
    "# Generate public keys for both users\n",
    "public_key_A = private_key_A.public_key()\n",
    "public_key_B = private_key_B.public_key()\n",
    "\n",
    "# Shared secret generation based on the public keys\n",
    "shared_key_A = private_key_A.exchange(public_key_B)\n",
    "shared_key_B = private_key_B.exchange(public_key_A)\n",
    "\n",
    "# Assert that the shared keys are the same\n",
    "assert shared_key_A == shared_key_B\n",
    "shared_key = shared_key_A\n",
    "\n",
    "# Display the results\n",
    "print(f\"Shared key generated for {user_A_name} and {user_B_name}: {shared_key.hex()}\")\n"
   ]
  },
  {
   "cell_type": "code",
   "execution_count": 5,
   "id": "b1b9b2b4-dec0-4a06-86df-6073ac403668",
   "metadata": {},
   "outputs": [],
   "source": [
    "#AES"
   ]
  },
  {
   "cell_type": "code",
   "execution_count": 12,
   "id": "d1bcb90d-dacf-4801-bd5c-95993b6579e9",
   "metadata": {},
   "outputs": [
    {
     "name": "stdin",
     "output_type": "stream",
     "text": [
      "Enter the message you want to encrypt:  tejas\n"
     ]
    },
    {
     "name": "stdout",
     "output_type": "stream",
     "text": [
      "AES Encrypted (in bytes): 9eab6748c46e245b825c8bfb8db57a6c\n"
     ]
    },
    {
     "name": "stdin",
     "output_type": "stream",
     "text": [
      "Do you want to decrypt the message? (yes/no):  no\n"
     ]
    },
    {
     "name": "stdout",
     "output_type": "stream",
     "text": [
      "Decryption skipped.\n"
     ]
    }
   ],
   "source": [
    "from Crypto.Cipher import AES\n",
    "import hashlib\n",
    "\n",
    "# AES encryption using the shared key\n",
    "def pad(s):\n",
    "    return s + (16 - len(s) % 16) * chr(16 - len(s) % 16)\n",
    "\n",
    "def aes_encrypt(message, key):\n",
    "    key = hashlib.sha256(key).digest()  # AES expects a 256-bit key\n",
    "    cipher = AES.new(key, AES.MODE_ECB)\n",
    "    return cipher.encrypt(pad(message).encode())\n",
    "\n",
    "def aes_decrypt(ciphertext, key):\n",
    "    key = hashlib.sha256(key).digest()\n",
    "    cipher = AES.new(key, AES.MODE_ECB)\n",
    "    decrypted = cipher.decrypt(ciphertext).decode()\n",
    "    return decrypted[:-ord(decrypted[-1])]\n",
    "\n",
    "# Prompt user for the message to be encrypted\n",
    "message = input(\"Enter the message you want to encrypt: \")\n",
    "\n",
    "# Use the shared_key generated from Diffie-Hellman as the encryption key\n",
    "# Ensure shared_key is converted to bytes if necessary\n",
    "shared_key = hashlib.sha256(shared_key).digest()\n",
    "\n",
    "# AES Encryption\n",
    "encrypted_aes = aes_encrypt(message, shared_key)\n",
    "print(f\"AES Encrypted (in bytes): {encrypted_aes.hex()}\")  # Display as hex for readability\n",
    "\n",
    "# Ask user if they want to decrypt the message\n",
    "decrypt_choice = input(\"Do you want to decrypt the message? (yes/no): \").strip().lower()\n",
    "\n",
    "# If the user chooses to decrypt, ask for the encrypted key and perform decryption\n",
    "if decrypt_choice == 'yes':\n",
    "    encrypted_key_input = input(\"Please provide the encrypted key (in hex format): \").strip()\n",
    "    \n",
    "    # Convert the provided encrypted key back to bytes\n",
    "    encrypted_key_bytes = bytes.fromhex(encrypted_key_input)\n",
    "    \n",
    "    # AES Decryption\n",
    "    try:\n",
    "        decrypted_message = aes_decrypt(encrypted_key_bytes, shared_key)\n",
    "        print(f\"Decrypted Message: {decrypted_message}\")\n",
    "    except Exception as e:\n",
    "        print(f\"Decryption failed: {str(e)}\")\n",
    "else:\n",
    "    print(\"Decryption skipped.\")\n"
   ]
  },
  {
   "cell_type": "code",
   "execution_count": 6,
   "id": "3ec5fb65-7078-466f-b92e-2099ebbb6c6c",
   "metadata": {},
   "outputs": [],
   "source": [
    "# AES and DES3"
   ]
  },
  {
   "cell_type": "code",
   "execution_count": 18,
   "id": "8e7728f9-0d9d-4e5d-81b2-4f669d767d0e",
   "metadata": {},
   "outputs": [
    {
     "name": "stdin",
     "output_type": "stream",
     "text": [
      "Enter the message you want to encrypt:  hello\n",
      "Enter a shared key or passphrase:  someoneisgreat\n"
     ]
    },
    {
     "name": "stdout",
     "output_type": "stream",
     "text": [
      "AES Encrypted (hex): aea2c6118354c1cbc31a4096e6b31235\n",
      "Triple DES Encrypted (hex): e325a37193b83f6c3afabd202e6e0751a335019b8dd6a23937d49999f8b90432c0586bfc33a1d292c0586bfc33a1d292\n"
     ]
    },
    {
     "name": "stdin",
     "output_type": "stream",
     "text": [
      "Do you want to decrypt the message? (yes/no):  yes\n",
      "Please provide the Triple DES encrypted key (in hex format):  e325a37193b83f6c3afabd202e6e0751a335019b8dd6a23937d49999f8b90432c0586bfc33a1d292c0586bfc33a1d292\n"
     ]
    },
    {
     "name": "stdout",
     "output_type": "stream",
     "text": [
      "Decrypted Message: hello\n"
     ]
    }
   ],
   "source": [
    "from Crypto.Cipher import AES, DES3\n",
    "import hashlib\n",
    "import binascii\n",
    "\n",
    "# Padding function to ensure message length is a multiple of 16 (for AES and Triple DES)\n",
    "def pad(s):\n",
    "    return s + (16 - len(s) % 16) * chr(16 - len(s) % 16)\n",
    "\n",
    "# AES encryption using the shared key\n",
    "def aes_encrypt(message, key):\n",
    "    key = hashlib.sha256(key).digest()  # AES expects a 256-bit key\n",
    "    cipher = AES.new(key, AES.MODE_ECB)\n",
    "    return cipher.encrypt(pad(message).encode())\n",
    "\n",
    "def aes_decrypt(ciphertext, key):\n",
    "    key = hashlib.sha256(key).digest()\n",
    "    cipher = AES.new(key, AES.MODE_ECB)\n",
    "    decrypted = cipher.decrypt(ciphertext).decode()\n",
    "    return decrypted[:-ord(decrypted[-1])]\n",
    "\n",
    "# Triple DES encryption using shared key\n",
    "def triple_des_encrypt(message, key):\n",
    "    key = hashlib.sha256(key).digest()[:24]  # Triple DES uses a 168-bit key (24 bytes)\n",
    "    cipher = DES3.new(key, DES3.MODE_ECB)\n",
    "    return cipher.encrypt(pad(message).encode())\n",
    "\n",
    "def triple_des_decrypt(ciphertext, key):\n",
    "    key = hashlib.sha256(key).digest()[:24]\n",
    "    cipher = DES3.new(key, DES3.MODE_ECB)\n",
    "    decrypted = cipher.decrypt(ciphertext).decode()\n",
    "    return decrypted[:-ord(decrypted[-1])]\n",
    "\n",
    "# 1. Prompt user for the message to be encrypted\n",
    "message = input(\"Enter the message you want to encrypt: \")\n",
    "\n",
    "# Use shared_key generated from Diffie-Hellman or any fixed key for this example\n",
    "shared_key = input(\"Enter a shared key or passphrase: \").encode()\n",
    "\n",
    "# 2. AES Encryption\n",
    "aes_encrypted = aes_encrypt(message, shared_key)\n",
    "\n",
    "# Convert AES encrypted result to hex for better readability\n",
    "aes_encrypted_hex = binascii.hexlify(aes_encrypted).decode()\n",
    "print(f\"AES Encrypted (hex): {aes_encrypted_hex}\")\n",
    "\n",
    "# 3. Triple DES encryption using the AES-encrypted result\n",
    "encrypted_triple_des = triple_des_encrypt(aes_encrypted.hex(), shared_key)\n",
    "\n",
    "# Convert Triple DES encrypted result to hex\n",
    "encrypted_triple_des_hex = binascii.hexlify(encrypted_triple_des).decode()\n",
    "print(f\"Triple DES Encrypted (hex): {encrypted_triple_des_hex}\")\n",
    "\n",
    "# 4. Ask the user if they want to decrypt the message\n",
    "decrypt_choice = input(\"Do you want to decrypt the message? (yes/no): \").strip().lower()\n",
    "\n",
    "# If the user chooses to decrypt\n",
    "if decrypt_choice == 'yes':\n",
    "    # Ask for the encrypted Triple DES key in hex format\n",
    "    encrypted_key_input = input(\"Please provide the Triple DES encrypted key (in hex format): \").strip()\n",
    "    \n",
    "    # Convert the provided encrypted key back to bytes\n",
    "    encrypted_key_bytes = binascii.unhexlify(encrypted_key_input)\n",
    "\n",
    "    # Triple DES Decryption\n",
    "    decrypted_triple_des = triple_des_decrypt(encrypted_key_bytes, shared_key)\n",
    "    \n",
    "    # Convert decrypted Triple DES result from hex back to bytes\n",
    "    decrypted_triple_des_bytes = binascii.unhexlify(decrypted_triple_des)\n",
    "\n",
    "    # AES Decryption\n",
    "    final_message = aes_decrypt(decrypted_triple_des_bytes, shared_key)\n",
    "    print(f\"Decrypted Message: {final_message}\")\n",
    "else:\n",
    "    print(\"Decryption skipped.\")\n"
   ]
  },
  {
   "cell_type": "code",
   "execution_count": 7,
   "id": "972ee73d-37ff-4aa3-884e-9035c6d5a347",
   "metadata": {},
   "outputs": [],
   "source": [
    "# image stegnography"
   ]
  },
  {
   "cell_type": "code",
   "execution_count": 19,
   "id": "929032c7-f216-4b0e-81a6-2309d4da3d0d",
   "metadata": {},
   "outputs": [
    {
     "name": "stdout",
     "output_type": "stream",
     "text": [
      "Requirement already satisfied: pillow in c:\\python311\\lib\\site-packages (10.3.0)\n",
      "Note: you may need to restart the kernel to use updated packages.\n"
     ]
    }
   ],
   "source": [
    "pip install pillow\n"
   ]
  },
  {
   "cell_type": "code",
   "execution_count": null,
   "id": "588da189-5fc7-4b1b-93d5-80453478dfdf",
   "metadata": {},
   "outputs": [],
   "source": [
    "# Hybrid Encryption System with Steganography and Key Verification Using Hashing\n",
    "\n",
    "# #### Overview\n",
    "### This hybrid encryption system combines multiple cryptographic techniques-AES (Advanced Encryption Standard), Triple DES (Data Encryption Standard, and Steganography to create a robust and secure encryption mechanism. Additionally, it introduces a hash-based shared key validation mechanism to enhance security further by verifying the user-provided key before decryption.\n",
    "\n",
    "### The system ensures data confidentiality, integrity, and security by:\n",
    "### 1. Encrypting the message using AES.\n",
    "### 2. Re-encrypting the AES-encrypted message using Triple DES.\n",
    "### 3. Hiding the encrypted message inside an image using steganography.\n",
    "### 4. Verifying the shared key hash during decryption to ensure key authenticity.\n",
    "\n",
    "### Workflow and Working Process\n",
    "\n",
    "# 1. User Input and Key Hashing:\n",
    "#    - The system starts by accepting the **shared key** from the user. This key is critical because it will be used for both AES and Triple DES encryption.\n",
    "#    - To ensure future validation, the shared key is hashed using **SHA-256**. This **hash of the key** is stored alongside the encrypted message for validation during the decryption phase.\n",
    "\n",
    "## 2. AES Encryption:\n",
    "###    - The user's input message is first encrypted using AES, a symmetric encryption algorithm that ensures the confidentiality of the message.\n",
    "\n",
    "## 3. Triple DES Encryption:\n",
    "###    - The AES-encrypted message is further encrypted using Triple DES for an additional layer of security. Triple DES applies the DES algorithm three times to the data to increase encryption strength.\n",
    "\n",
    "## 4. Steganography (Hiding Encrypted Message in an Image):\n",
    "###    - The doubly-encrypted message is hidden within an image using **Least Significant Bit (LSB) steganography**, where the encrypted message bits replace the least significant bits of the image pixels.\n",
    "###    - This ensures that the message is hidden inside the image in a way that’s undetectable to the human eye.\n",
    "\n",
    "## 5. Decryption Process:\n",
    "###    - During decryption, the user is prompted to enter the shared key again. The key provided during decryption is hashed and compared to the original hashed key stored during encryption.\n",
    "###   - If the hash of the user-provided key matches the stored hash, the system proceeds with decryption.\n",
    "###    - If the hash does not match, the system terminates the process and outputs a **\"Danger: Invalid Key\"** warning, protecting the system from unauthorized access.\n",
    "\n",
    "### Detailed Working Process Flow:\n",
    "\n",
    "## 1. Encryption Process:\n",
    "###    - Step 1: User enters a shared key and a message.\n",
    "###    - Step 2: Hash the shared key using SHA-256 for later verification.\n",
    "###    - Step 3: AES encrypt the message using the shared key.\n",
    "###   - Step 4: Triple DES encrypt the AES-encrypted message using the shared key.\n",
    "###    - Step 5: Hide the encrypted message in an image using steganography.\n",
    "###    - Step 6: Store the hashed key alongside the encrypted message for future verification.\n",
    "\n",
    "## 2. Decryption Process:\n",
    "###    - Step 1: User provides the key for decryption.\n",
    "###    - Step 2: Hash the user-provided key.\n",
    "###    - Step 3: Compare the hash of the user-provided key with the stored hash from the encryption process.\n",
    "###    - Step 4: If hashes match, proceed with extracting the encrypted message from the image.\n",
    "###    - Step 5: Decrypt the message with Triple DES, followed by AES.\n",
    "###    - Step 6: If hashes do not match, alert the user with a warning.\n",
    "\n",
    "\n",
    "\n",
    "## Diagrammatic Representation\n",
    "\n",
    "## Below is a simplified diagram of the Hybrid Encryption System:\n",
    "\n",
    "#            +---------------------------+\n",
    "#            |        User Input          |\n",
    "#            |    Message + Shared Key    |\n",
    "#            +---------------------------+\n",
    "#                          |\n",
    "#                          V\n",
    "#               +-------------------+\n",
    "#               |   Hash Shared Key  |\n",
    "#               |   (SHA-256 Hash)   |\n",
    "#               +-------------------+\n",
    "#                          |\n",
    "#                          V\n",
    "#            +----------------------------------+\n",
    "#            |          AES Encryption         |\n",
    "#            |    (Encrypted Message via AES)  |\n",
    "#            +----------------------------------+\n",
    "#                          |\n",
    "#                          V\n",
    "#        +------------------------------------------+\n",
    "#        |        Triple DES Encryption             |\n",
    "#        |    (Encrypt AES Output via Triple DES)   |\n",
    "#        +------------------------------------------+\n",
    "#                          |\n",
    "#                          V\n",
    "#            +------------------------------+\n",
    "#            |   Steganography Embedding     |\n",
    "#            |   (Hide Message in an Image)  |\n",
    "#            +------------------------------+\n",
    "#                          |\n",
    "#                          V\n",
    "#           +---------------------------------------+\n",
    "#           |         Store Encrypted Image         |\n",
    "#           |   (Image with Encrypted Message +     |\n",
    "#           |   Hashed Key for Validation)          |\n",
    "#           +---------------------------------------+\n",
    "\n",
    "#           +-----------------------------------+\n",
    "#           |     Decryption & Key Validation   |\n",
    "#           |   (User Provides Key for Decrypt) |\n",
    "#           +-----------------------------------+\n",
    "#                          |\n",
    "#                If hash matches, proceed to:\n",
    "#                          |\n",
    "#                          V\n",
    "#        +-------------------------------------------+\n",
    "#        |    Extract Message from Image (Stegano)   |\n",
    "#        +-------------------------------------------+\n",
    "#                          |\n",
    "#                          V\n",
    "#        +-------------------------------------------+\n",
    "#        |  Triple DES Decryption -> AES Decryption  |\n",
    "#        +-------------------------------------------+\n",
    "#                          |\n",
    "#                          V\n",
    "#                  +-------------------+\n",
    "#                  |    Original Text  |\n",
    "#                  +-------------------+\n",
    "\n",
    "#      If hash does not match: \"Danger: Invalid Key\" warning.\n",
    "\n",
    "\n",
    "# ### New Features Implemented\n",
    "\n",
    "# 1. Hash-Based Key Verification:\n",
    "#    - A new security feature that hashes the shared key using SHA-256 and stores the hash with the encrypted message. During decryption, the provided key is hashed again and compared to the original hash, ensuring that only the correct key can be used to decrypt the message.\n",
    "#    - This prevents unauthorized decryption attempts even if the image is intercepted.\n",
    "\n",
    "# 2. Multi-Layered Encryption\n",
    "#    - The hybrid system uses **both AES and Triple DES encryption**, offering a **double-layer encryption** approach. This makes it much more difficult for attackers to decrypt the message without knowing both layers of encryption.\n",
    "\n",
    "# 3. Steganography\n",
    "#    - The use of **steganography** adds another layer of security by hiding the encrypted message inside an image, making the data invisible and therefore less likely to attract attention.\n",
    "\n",
    "# 4. **User Key Validation Before Decryption**:\n",
    "#    - The system ensures that only users with the correct shared key can decrypt the hidden message by validating the key's hash.\n",
    "#    - If an incorrect key is provided, the system does not decrypt the message, but instead, it displays a **\"Danger: Invalid Key\"** message to alert the user.\n",
    "\n",
    "\n",
    " ## Future Works and Enhancements\n",
    "\n",
    "## 1. Advanced Steganography Techniques:\n",
    "###    - **Improved steganography** methods can be implemented to hide messages in multiple image channels or in other media (like audio or video) for enhanced data hiding capabilities.\n",
    "\n",
    "## 2. Use of Public-Key Cryptography (RSA):\n",
    "###    - Implementing public-key cryptography like RSA to encrypt the AES or Triple DES keys before exchanging them over unsecured channels would enhance security.\n",
    "###    - This would avoid the need for users to share the shared key directly, reducing the risk of interception.\n",
    "\n",
    "## 3. Multi-Factor Authentication (MFA):\n",
    "###   - Future versions of the system can introduce multi-factor authentication before decryption. This could involve sending a one-time password (OTP) or using biometric authentication to validate the user's identity.\n",
    "\n",
    "## 4. Hybrid Cryptography with More Algorithms:\n",
    "###    - Other cryptographic algorithms such as Blowfish or ChaCha20 can be integrated into the system to provide even more flexibility and security for different use cases.\n",
    "   \n",
    "## 5. Cloud-Based Key Storage:\n",
    "###    - Implementing cloud-based key storage services (e.g., AWS KMS or Azure Key Vault) can help manage keys securely, rather than relying on the user to remember or securely store the keys themselves.\n",
    "\n",
    "## 6. Integrity Checks:\n",
    "###    - Adding a message integrity check using cryptographic hashing like HMAC (Hash-based Message Authentication Code can ensure that the encrypted message has not been tampered with during transmission.\n",
    "\n",
    "## 7. Machine Learning for Key Verification:\n",
    "###    - Machine learning techniques could be incorporated to monitor and learn from access patterns, helping detect potential brute-force attacks or unusual decryption requests.\n",
    "\n",
    "\n",
    "\n",
    "# Conclusion\n",
    "### This hybrid encryption system leverages the strengths of multiple encryption techniques—AES, Triple DES, and Steganography—and adds a hash-based key validation mechanism to secure communications further. The system is well-suited for scenarios where high confidentiality, integrity, and security are required. The future enhancements mentioned could take this system to even higher levels of security by introducing public-key cryptography, advanced steganography techniques, and more sophisticated methods for managing keys and access verification.\n"
   ]
  },
  {
   "cell_type": "code",
   "execution_count": 1,
   "id": "541edfda-49b8-479d-828c-44a0d8c00197",
   "metadata": {},
   "outputs": [
    {
     "name": "stdin",
     "output_type": "stream",
     "text": [
      "Enter the message you want to encrypt:  tejas is variable\n",
      "Enter a shared key or passphrase:  difpg6321c\n",
      "Enter the path to the image file (e.g., image.png):  image.png\n"
     ]
    },
    {
     "name": "stdout",
     "output_type": "stream",
     "text": [
      "Message hidden in image and saved as: encoded_image.png\n"
     ]
    },
    {
     "name": "stdin",
     "output_type": "stream",
     "text": [
      "Do you want to extract and decrypt the hidden message? (yes/no):  yes\n"
     ]
    },
    {
     "name": "stdout",
     "output_type": "stream",
     "text": [
      "Extracted encrypted message (hex): 4a23a4216233cbd03ce4d904a8d204b7e400c0c4894b517fbc51096bd1c52d561e0c5db04d57a088e3930ea35f7c431cc228a1e355021c98b56aebf458684ee74d55d527044e33854d55d527044e3385\n",
      "Decrypted Message: tejas is variable\n"
     ]
    }
   ],
   "source": [
    "from Crypto.Cipher import AES, DES3\n",
    "import hashlib\n",
    "from PIL import Image\n",
    "import binascii\n",
    "import numpy as np\n",
    "\n",
    "# Padding function to ensure message length is a multiple of 16 (for AES and Triple DES)\n",
    "def pad(s):\n",
    "    return s + (16 - len(s) % 16) * chr(16 - len(s) % 16)\n",
    "\n",
    "# AES encryption using the shared key\n",
    "def aes_encrypt(message, key):\n",
    "    key = hashlib.sha256(key).digest()  # AES expects a 256-bit key\n",
    "    cipher = AES.new(key, AES.MODE_ECB)\n",
    "    return cipher.encrypt(pad(message).encode())\n",
    "\n",
    "def aes_decrypt(ciphertext, key):\n",
    "    key = hashlib.sha256(key).digest()\n",
    "    cipher = AES.new(key, AES.MODE_ECB)\n",
    "    decrypted = cipher.decrypt(ciphertext).decode()\n",
    "    return decrypted[:-ord(decrypted[-1])]\n",
    "\n",
    "# Triple DES encryption using shared key\n",
    "def triple_des_encrypt(message, key):\n",
    "    key = hashlib.sha256(key).digest()[:24]  # Triple DES uses a 168-bit key (24 bytes)\n",
    "    cipher = DES3.new(key, DES3.MODE_ECB)\n",
    "    return cipher.encrypt(pad(message).encode())\n",
    "\n",
    "def triple_des_decrypt(ciphertext, key):\n",
    "    key = hashlib.sha256(key).digest()[:24]\n",
    "    cipher = DES3.new(key, DES3.MODE_ECB)\n",
    "    decrypted = cipher.decrypt(ciphertext).decode()\n",
    "    return decrypted[:-ord(decrypted[-1])]\n",
    "\n",
    "# Steganography: Hide message in image\n",
    "def encode_message_in_image(image_path, message):\n",
    "    img = Image.open(image_path)\n",
    "    img_array = np.array(img)\n",
    "\n",
    "    message += \"###\"  # Adding delimiter to the message\n",
    "    message_bits = ''.join([format(ord(i), '08b') for i in message])\n",
    "\n",
    "    idx = 0\n",
    "    for i in range(img_array.shape[0]):\n",
    "        for j in range(img_array.shape[1]):\n",
    "            if idx < len(message_bits):\n",
    "                # Modify the least significant bit of the red channel to hide the message\n",
    "                img_array[i, j, 0] = int(format(img_array[i, j, 0], '08b')[:-1] + message_bits[idx], 2)\n",
    "                idx += 1\n",
    "\n",
    "    encoded_img = Image.fromarray(img_array)\n",
    "    encoded_img.save(\"encoded_image.png\")\n",
    "    return \"encoded_image.png\"\n",
    "\n",
    "# Steganography: Extract message from image\n",
    "def decode_message_from_image(image_path):\n",
    "    img = Image.open(image_path)\n",
    "    img_array = np.array(img)\n",
    "\n",
    "    message_bits = \"\"\n",
    "    for i in range(img_array.shape[0]):\n",
    "        for j in range(img_array.shape[1]):\n",
    "            message_bits += format(img_array[i, j, 0], '08b')[-1]\n",
    "\n",
    "    message = ''.join([chr(int(message_bits[i:i+8], 2)) for i in range(0, len(message_bits), 8)])\n",
    "    return message.split(\"###\")[0]  # Stop at delimiter\n",
    "\n",
    "# 1. Prompt user for the message to be encrypted\n",
    "message = input(\"Enter the message you want to encrypt: \")\n",
    "\n",
    "# Use shared_key generated from Diffie-Hellman or any fixed key for this example\n",
    "shared_key = input(\"Enter a shared key or passphrase: \").encode()\n",
    "\n",
    "# 2. AES Encryption\n",
    "aes_encrypted = aes_encrypt(message, shared_key)\n",
    "\n",
    "# 3. Triple DES encryption using the AES-encrypted result\n",
    "encrypted_triple_des = triple_des_encrypt(aes_encrypted.hex(), shared_key)\n",
    "\n",
    "# Convert Triple DES encrypted result to hex for embedding\n",
    "encrypted_triple_des_hex = binascii.hexlify(encrypted_triple_des).decode()\n",
    "\n",
    "# 4. Embed the encrypted message into an image\n",
    "image_path = input(\"Enter the path to the image file (e.g., image.png): \")\n",
    "encoded_image_path = encode_message_in_image(image_path, encrypted_triple_des_hex)\n",
    "print(f\"Message hidden in image and saved as: {encoded_image_path}\")\n",
    "\n",
    "# 5. Ask the user if they want to extract and decrypt the message\n",
    "decrypt_choice = input(\"Do you want to extract and decrypt the hidden message? (yes/no): \").strip().lower()\n",
    "\n",
    "if decrypt_choice == 'yes':\n",
    "    # Extract the message from the image\n",
    "    extracted_message = decode_message_from_image(encoded_image_path)\n",
    "    print(f\"Extracted encrypted message (hex): {extracted_message}\")\n",
    "\n",
    "    # Triple DES Decryption\n",
    "    decrypted_triple_des = triple_des_decrypt(binascii.unhexlify(extracted_message), shared_key)\n",
    "\n",
    "    # Convert decrypted Triple DES result from hex back to bytes\n",
    "    decrypted_triple_des_bytes = binascii.unhexlify(decrypted_triple_des)\n",
    "\n",
    "    # AES Decryption\n",
    "    final_message = aes_decrypt(decrypted_triple_des_bytes, shared_key)\n",
    "    print(f\"Decrypted Message: {final_message}\")\n",
    "else:\n",
    "    print(\"Decryption skipped.\")\n"
   ]
  },
  {
   "cell_type": "code",
   "execution_count": 10,
   "id": "e5b2edbc-2035-4bc6-afff-2af3afb80e32",
   "metadata": {},
   "outputs": [
    {
     "name": "stdin",
     "output_type": "stream",
     "text": [
      "Enter the message you want to encrypt:  iamvariable\n",
      "Enter a shared key or passphrase (used for AES and Triple DES):  difpg6321c\n"
     ]
    },
    {
     "name": "stdout",
     "output_type": "stream",
     "text": [
      "Hashed Shared Key: d585d5dd94afc77417cf4e92e944968624dc721b0738dcf2835066b15b515f1f\n",
      "AES Encrypted (hex): e10da32f29c1c8e55ed9d21ef244a125\n",
      "Triple DES Encrypted (hex): 16d3e61ed83eee979391dd355b9df8aa487f52cf8265788132f28306e6e78dcd4d55d527044e33854d55d527044e3385\n"
     ]
    },
    {
     "name": "stdin",
     "output_type": "stream",
     "text": [
      "Enter the path to the image file (e.g., image.png):  image.png\n"
     ]
    },
    {
     "name": "stdout",
     "output_type": "stream",
     "text": [
      "Message hidden in image and saved as: encoded_image.png\n"
     ]
    },
    {
     "name": "stdin",
     "output_type": "stream",
     "text": [
      "Do you want to extract and decrypt the hidden message? (yes/no):  yes\n"
     ]
    },
    {
     "name": "stdout",
     "output_type": "stream",
     "text": [
      "Extracted encrypted message (hex): 16d3e61ed83eee979391dd355b9df8aa487f52cf8265788132f28306e6e78dcd4d55d527044e33854d55d527044e3385\n"
     ]
    },
    {
     "name": "stdin",
     "output_type": "stream",
     "text": [
      "Please provide the key to decrypt:  difpg6321c\n"
     ]
    },
    {
     "name": "stdout",
     "output_type": "stream",
     "text": [
      "Key is correct. Proceeding with decryption...\n",
      "Decrypted Message: iamvariable\n"
     ]
    }
   ],
   "source": []
  },
  {
   "cell_type": "code",
   "execution_count": null,
   "id": "85fe84d0-0a4f-4ab1-a8ff-b713c91da476",
   "metadata": {},
   "outputs": [],
   "source": []
  }
 ],
 "metadata": {
  "kernelspec": {
   "display_name": "Python 3 (ipykernel)",
   "language": "python",
   "name": "python3"
  },
  "language_info": {
   "codemirror_mode": {
    "name": "ipython",
    "version": 3
   },
   "file_extension": ".py",
   "mimetype": "text/x-python",
   "name": "python",
   "nbconvert_exporter": "python",
   "pygments_lexer": "ipython3",
   "version": "3.11.2"
  }
 },
 "nbformat": 4,
 "nbformat_minor": 5
}
